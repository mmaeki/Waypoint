{
  "nbformat": 4,
  "nbformat_minor": 0,
  "metadata": {
    "colab": {
      "provenance": []
    },
    "kernelspec": {
      "name": "python3",
      "display_name": "Python 3"
    },
    "language_info": {
      "name": "python"
    }
  },
  "cells": [
    {
      "cell_type": "code",
      "source": [
        "!pip install -q -U google-generativeai"
      ],
      "metadata": {
        "id": "Tmx-_k-NTVj2",
        "colab": {
          "base_uri": "https://localhost:8080/"
        },
        "outputId": "58120bd1-af11-46c3-99ab-062347b6fb37"
      },
      "execution_count": 1,
      "outputs": [
        {
          "output_type": "stream",
          "name": "stdout",
          "text": [
            "\u001b[?25l     \u001b[90m━━━━━━━━━━━━━━━━━━━━━━━━━━━━━━━━━━━━━━━━\u001b[0m \u001b[32m0.0/146.8 kB\u001b[0m \u001b[31m?\u001b[0m eta \u001b[36m-:--:--\u001b[0m\r\u001b[2K     \u001b[91m━━━━━━━━━━━\u001b[0m\u001b[90m╺\u001b[0m\u001b[90m━━━━━━━━━━━━━━━━━━━━━━━━━━━━\u001b[0m \u001b[32m41.0/146.8 kB\u001b[0m \u001b[31m1.1 MB/s\u001b[0m eta \u001b[36m0:00:01\u001b[0m\r\u001b[2K     \u001b[90m━━━━━━━━━━━━━━━━━━━━━━━━━━━━━━━━━━━━━━━━\u001b[0m \u001b[32m146.8/146.8 kB\u001b[0m \u001b[31m2.0 MB/s\u001b[0m eta \u001b[36m0:00:00\u001b[0m\n",
            "\u001b[?25h\u001b[?25l     \u001b[90m━━━━━━━━━━━━━━━━━━━━━━━━━━━━━━━━━━━━━━━━\u001b[0m \u001b[32m0.0/664.5 kB\u001b[0m \u001b[31m?\u001b[0m eta \u001b[36m-:--:--\u001b[0m\r\u001b[2K     \u001b[90m━━━━━━━━━━━━━━━━━━━━━━━━━━━━━━━━━━━━━━━━\u001b[0m \u001b[32m664.5/664.5 kB\u001b[0m \u001b[31m23.2 MB/s\u001b[0m eta \u001b[36m0:00:00\u001b[0m\n",
            "\u001b[?25h"
          ]
        }
      ]
    },
    {
      "cell_type": "code",
      "source": [
        "import google.generativeai as genai\n",
        "# Used to securely store your API key\n",
        "from google.colab import userdata\n",
        "\n",
        "GOOGLE_API_KEY=userdata.get('GOOGLE_API_KEY')\n",
        "genai.configure(api_key=GOOGLE_API_KEY)\n",
        "\n",
        "model = genai.GenerativeModel('gemini-pro')"
      ],
      "metadata": {
        "id": "5MNYm6ZZTfIc"
      },
      "execution_count": 2,
      "outputs": []
    },
    {
      "cell_type": "code",
      "execution_count": 5,
      "metadata": {
        "colab": {
          "base_uri": "https://localhost:8080/",
          "height": 325
        },
        "id": "f0feGLqeReVZ",
        "outputId": "62a1163c-e23b-4c74-aa62-10175cb044e1"
      },
      "outputs": [
        {
          "name": "stdout",
          "output_type": "stream",
          "text": [
            "You: Water, San Diego\n",
            "1. **SeaWorld San Diego:** Marine life park featuring animal shows, exhibits, and thrilling rides.\n",
            "2. **San Diego Bay Harbor Cruise:** Scenic tour of the city skyline, harbor, and naval vessels.\n",
            "3. **La Jolla Cove Snorkeling:** Explore the underwater world with vibrant marine life in a protected cove.\n",
            "4. **Sunset Cliff Kayaking:** Paddle along the picturesque coastline to witness breathtaking sunsets.\n",
            "5. **Torrey Pines State Natural Reserve Guided Hike:** Discover coastal bluffs, hidden beaches, and stunning ocean views.\n",
            "6. **Mission Bay Aquatic Center:** Water sports paradise with kayaking, paddleboarding, sailing, and jet skiing.\n",
            "7. **San Diego Whale Watching:** Take a boat tour to observe majestic whales during migration season.\n",
            "You: Video games, Los Angeles\n",
            "1. **E3 Expo:** Annual gaming convention showcasing the latest games, technology, and industry trends.\n",
            "2. **The Video Game History Museum:** Explore the evolution of video games through interactive exhibits and vintage consoles.\n",
            "3. **Blizzard Arena Los Angeles:** State-of-the-art esports venue hosting tournaments and gaming events.\n",
            "4. **Nintendo of America Headquarters Tour:** Get a behind-the-scenes look at the company's history and upcoming games.\n",
            "5. **Hollywood Walk of Game:** Find stars honoring iconic video game characters and industry pioneers.\n",
            "6. **Arcade Odyssey:** Play classic and modern arcade games in a retro-inspired setting.\n",
            "7. **VR Zone Los Angeles:** Immerse yourself in virtual reality gaming experiences with cutting-edge technology.\n",
            "You: \n"
          ]
        }
      ],
      "source": [
        "\"\"\"\n",
        "At the command line, only need to run once to install the package via pip:\n",
        "\n",
        "$ pip install google-generativeai\n",
        "\"\"\"\n",
        "\n",
        "import google.generativeai as genai\n",
        "\n",
        "genai.configure(api_key=GOOGLE_API_KEY)\n",
        "\n",
        "# Set up the model\n",
        "generation_config = {\n",
        "  \"temperature\": 1,\n",
        "  \"top_p\": 0.95,\n",
        "  \"top_k\": 0,\n",
        "  \"max_output_tokens\": 8192,\n",
        "}\n",
        "\n",
        "safety_settings = [\n",
        "  {\n",
        "    \"category\": \"HARM_CATEGORY_HARASSMENT\",\n",
        "    \"threshold\": \"BLOCK_MEDIUM_AND_ABOVE\"\n",
        "  },\n",
        "  {\n",
        "    \"category\": \"HARM_CATEGORY_HATE_SPEECH\",\n",
        "    \"threshold\": \"BLOCK_MEDIUM_AND_ABOVE\"\n",
        "  },\n",
        "  {\n",
        "    \"category\": \"HARM_CATEGORY_SEXUALLY_EXPLICIT\",\n",
        "    \"threshold\": \"BLOCK_MEDIUM_AND_ABOVE\"\n",
        "  },\n",
        "  {\n",
        "    \"category\": \"HARM_CATEGORY_DANGEROUS_CONTENT\",\n",
        "    \"threshold\": \"BLOCK_MEDIUM_AND_ABOVE\"\n",
        "  },\n",
        "]\n",
        "\n",
        "\n",
        "model = genai.GenerativeModel(model_name=\"gemini-pro\",\n",
        "                              generation_config=generation_config,\n",
        "                              safety_settings=safety_settings)\n",
        "\n",
        "convo = model.start_chat(history=[])\n",
        "\n",
        "while True:\n",
        "    q = input(\"You: \")\n",
        "\n",
        "    if (q.strip() == ''):\n",
        "      break\n",
        "    else:\n",
        "      interest, loc = q.split(\",\")\n",
        "      interest = interest.strip()\n",
        "      loc = loc = loc.strip()\n",
        "\n",
        "    response = convo.send_message(\"Please list five to seven tourist activities that relate to \" + interest + \" in \" + loc + \". For each tourist activity, please give a brief description of the activity in ten words or less.\")\n",
        "    print(convo.last.text)"
      ]
    }
  ]
}